{
 "cells": [
  {
   "cell_type": "code",
   "execution_count": null,
   "id": "3963e6ef-ef85-4fa7-8e9f-c083b8220181",
   "metadata": {},
   "outputs": [],
   "source": []
  },
  {
   "cell_type": "markdown",
   "id": "2b023311-f4e8-473f-a71f-c2ed14122ff7",
   "metadata": {},
   "source": [
    "# Theoretical\n"
   ]
  },
  {
   "cell_type": "code",
   "execution_count": 1,
   "id": "193ed681-ceb2-41b5-bdb2-50a06267c501",
   "metadata": {},
   "outputs": [],
   "source": [
    "#Q1  What is Logistic Regression, and how does it differ from Linear Regression ?"
   ]
  },
  {
   "cell_type": "code",
   "execution_count": 2,
   "id": "82f8dc4e-8a3d-424c-9a32-156dd259b4ee",
   "metadata": {},
   "outputs": [],
   "source": [
    "### Logistic Regression:\n",
    "# **Definition**: Statistical method for binary classification.\n",
    "# **Purpose**: Used for classification tasks.\n",
    "# **Output**: Predicts probability of class membership.\n",
    "# **Equation**: Uses logistic (sigmoid) function.\n",
    "# **Interpretation**: Coefficients represent changes in log-odds.\n",
    "# **Cost Function**: Log-likelihood function.\n",
    "\n",
    "### Linear Regression:\n",
    "# **Definition**: Statistical method for modeling the relationship between variables to predict continuous outcomes.\n",
    "# **Purpose**: Used for regression tasks.\n",
    "# **Output**: Predicts continuous values.\n",
    "# **Equation**: Uses a linear equation.\n",
    "# **Interpretation**: Coefficients represent changes in the outcome variable.\n",
    "# **Cost Function**: Sum of squared errors (SSE).\n",
    "\n",
    "### Key Differences:\n",
    "# 1. **Outcome Type**: Logistic for classification; Linear for regression.\n",
    "# 2. **Equation**: Logistic uses logistic function; Linear uses linear equation.\n",
    "# 3. **Interpretation**: Logistic interprets coefficients as log-odds changes; Linear interprets as outcome changes.\n",
    "# 4. **Cost Function**: Logistic uses log-likelihood; Linear uses SSE.\n",
    "\n"
   ]
  },
  {
   "cell_type": "code",
   "execution_count": 3,
   "id": "aa3ca6b4-526b-44ed-8b1b-c12bb3db48df",
   "metadata": {},
   "outputs": [],
   "source": [
    "#Q2  What is the mathematical equation of Logistic Regression ?"
   ]
  },
  {
   "cell_type": "code",
   "execution_count": 4,
   "id": "7f61281f-edc9-4e15-b5ce-3522e93846e3",
   "metadata": {},
   "outputs": [],
   "source": [
    "# The mathematical equation for **Logistic Regression** is:\n",
    "\n",
    "# P(Y=1|X) = 1/ 1 + e^-(beta_0 + beta_1X_1 + beta_2X_2 + ... + beta_nX_n)\n",
    "\n",
    "\n",
    "#  ( P(Y=1|X) \\): The probability that the dependent variable ( Y ) equals 1 given the input ( X ).\n",
    "#  ( beta_0): The intercept term (constant).\n",
    "#  ( beta_1, beta_2, ..., beta_n ): The coefficients for the predictor variables.\n",
    "#  ( X_1, X_2, ..., X_n ): The predictor variables (independent variables).\n",
    "#  ( e ): The base of the natural logarithm (approximately equal to 2.71828).\n",
    "\n"
   ]
  },
  {
   "cell_type": "code",
   "execution_count": 5,
   "id": "e17570e1-489a-44b2-9790-06354c044081",
   "metadata": {},
   "outputs": [],
   "source": [
    "#Q3 Why do we use the Sigmoid function in Logistic Regression ?"
   ]
  },
  {
   "cell_type": "code",
   "execution_count": 6,
   "id": "c1ab9900-bc95-44bd-8550-8a8da0fe756e",
   "metadata": {},
   "outputs": [],
   "source": [
    "# The Sigmoid function is used in Logistic Regression to convert predicted values into probabilities between 0 and 1. \n",
    "# This is crucial for binary classification tasks where the outcome must be either 0 or 1."
   ]
  },
  {
   "cell_type": "code",
   "execution_count": 7,
   "id": "11d7aa04-b811-4ea2-aed8-134250a57673",
   "metadata": {},
   "outputs": [],
   "source": [
    "#Q4  What is the cost function of Logistic Regression?"
   ]
  },
  {
   "cell_type": "code",
   "execution_count": 8,
   "id": "f592ce46-8383-4e02-9fad-47fb38df5ad4",
   "metadata": {},
   "outputs": [],
   "source": [
    "# The cost function for Logistic Regression is based on the log-likelihood function, but it's commonly expressed as the binary cross-entropy loss or log-loss. \n",
    "# This function measures the discrepancy between the predicted probabilities and the actual class labels, and the goal is to minimize this loss."
   ]
  },
  {
   "cell_type": "code",
   "execution_count": 9,
   "id": "c2f3e493-b6fc-48c6-a67b-fb152f7d5f36",
   "metadata": {},
   "outputs": [],
   "source": [
    "#Q5 What is Regularization in Logistic Regression? Why is it needed ?"
   ]
  },
  {
   "cell_type": "code",
   "execution_count": 10,
   "id": "fcd2c497-bd42-4619-9775-ce8d649e4329",
   "metadata": {},
   "outputs": [],
   "source": [
    "# **Regularization** in Logistic Regression adds a penalty to the cost function to prevent overfitting by discouraging excessively high coefficients.\n",
    "\n",
    " ### Why Regularization is Needed:\n",
    "# - **Prevent Overfitting**: Helps the model generalize to new data.\n",
    "# - **Reduce Variance**: Lowers the variability of model predictions.\n",
    "# - **Enhance Stability**: Makes the model more robust and stable.\n",
    "# - **Feature Selection**: Helps ignore irrelevant features (Lasso).\n",
    "\n"
   ]
  },
  {
   "cell_type": "code",
   "execution_count": 11,
   "id": "71ef7f9b-d347-495f-a7ce-35b1b66ea17d",
   "metadata": {},
   "outputs": [],
   "source": [
    "#Q6 Explain the difference between Lasso, Ridge, and Elastic Net regression ?"
   ]
  },
  {
   "cell_type": "code",
   "execution_count": 12,
   "id": "488a81b8-d1f9-4b0f-a82b-e65b37bb7e10",
   "metadata": {},
   "outputs": [],
   "source": [
    "# - **Lasso**: Adds absolute values, promotes sparsity, sets some coefficients to zero.\n",
    "# - **Ridge**: Adds squared values, shrinks coefficients, retains all features.\n",
    "# - **Elastic Net**: Combines Lasso and Ridge, balances feature selection and shrinkage.\n"
   ]
  },
  {
   "cell_type": "code",
   "execution_count": 13,
   "id": "92dec9de-456b-419d-8ea4-c6dd6cd9a0f4",
   "metadata": {},
   "outputs": [],
   "source": [
    "#Q7 When should we use Elastic Net instead of Lasso or Ridge ?"
   ]
  },
  {
   "cell_type": "code",
   "execution_count": 14,
   "id": "ce50b81b-faab-4c6b-b2aa-9dbb297172cb",
   "metadata": {},
   "outputs": [],
   "source": [
    "# We should use **Elastic Net** instead of Lasso or Ridge in these scenarios:\n",
    "\n",
    "# 1. **Correlated Features**: When features are highly correlated.\n",
    "# 2. **Feature Selection and Shrinkage**: When you need both feature selection (like Lasso) and coefficient shrinkage (like Ridge).\n",
    "# 3. **Sparse Models with Reduced Overfitting**: When you want a sparse model that also generalizes well.\n",
    "# 4. **Balanced Penalty**: To avoid the extremes of Lasso (over-penalizing) and Ridge (under-penalizing).\n",
    "\n",
    "# Elastic Net provides a balance between the strengths of Lasso and Ridge, making it suitable for handling multicollinearity and creating robust models."
   ]
  },
  {
   "cell_type": "code",
   "execution_count": 15,
   "id": "eba35cf1-d810-49d6-b7ef-54be91082430",
   "metadata": {},
   "outputs": [],
   "source": [
    "#Q8 What is the impact of the regularization parameter (λ) in Logistic Regression ?"
   ]
  },
  {
   "cell_type": "code",
   "execution_count": 16,
   "id": "f9fbd7d1-74a9-4d16-82aa-621793f8b9a4",
   "metadata": {},
   "outputs": [],
   "source": [
    "# **Impact of Regularization Parameter (λ) in Logistic Regression**:\n",
    "\n",
    "### **High λ**:\n",
    " # - Strong regularization.\n",
    " # - Shrinks coefficients.\n",
    " # - Prevents overfitting.\n",
    " # - May cause underfitting.\n",
    "\n",
    "###  **Low λ**:\n",
    " # - Weak regularization.\n",
    " # - Allows larger coefficients.\n",
    " # - Risk of overfitting.\n",
    "\n",
    "### **λ = 0**:\n",
    " # - No regularization.\n",
    " # - Higher risk of overfitting.\n",
    "\n"
   ]
  },
  {
   "cell_type": "code",
   "execution_count": 17,
   "id": "440ef4fc-a0fb-4998-a11e-82418c418915",
   "metadata": {},
   "outputs": [],
   "source": [
    "#Q9 What are the key assumptions of Logistic Regression ?"
   ]
  },
  {
   "cell_type": "code",
   "execution_count": 18,
   "id": "e9432f26-4233-4baf-8fa6-7cef9c098d46",
   "metadata": {},
   "outputs": [],
   "source": [
    "###**Key Assumptions of Logistic Regression**:\n",
    "\n",
    "# 1. **Linearity of the Logit**: Log-odds of the outcome are linearly related to the predictor variables.\n",
    "# 2. **Independence of Errors**: Observations are independent of each other.\n",
    "# 3. **No Perfect Multicollinearity**: Predictor variables are not perfectly correlated.\n",
    "# 4. **Large Sample Size**: Sufficiently large sample size for reliable estimates.\n",
    "# 5. **Binary Outcome**: Dependent variable is binary (0 or 1).\n",
    "# 6. **Little or No Measurement Error**: Predictor variables are measured accurately.\n",
    "\n"
   ]
  },
  {
   "cell_type": "code",
   "execution_count": 19,
   "id": "f745e6ce-0096-4d66-9249-9bcc6ffe92cd",
   "metadata": {},
   "outputs": [],
   "source": [
    "#Q10  What are some alternatives to Logistic Regression for classification tasks ?"
   ]
  },
  {
   "cell_type": "code",
   "execution_count": 20,
   "id": "8214de72-372e-415d-9f1a-cdd8732e061e",
   "metadata": {},
   "outputs": [],
   "source": [
    "\n",
    "# 1. **Decision Trees**:\n",
    "  # - Create a model that predicts the value of a target variable by learning simple decision rules inferred from the data features.\n",
    "   \n",
    "# 2. **Random Forest**:\n",
    "  # - An ensemble method that builds multiple decision trees and merges their results to improve accuracy and control overfitting.\n",
    "\n",
    "# 3. **Support Vector Machines (SVM)**:\n",
    "  # - Find the optimal hyperplane that best separates the classes in the feature space.\n",
    "\n",
    "# 4. **K-Nearest Neighbors (KNN)**:\n",
    "  # - Classify new data points based on the majority class among its K-nearest neighbors in the feature space.\n",
    "\n",
    "# 5. **Naive Bayes**:\n",
    "  # - A probabilistic classifier based on Bayes' theorem, assuming independence between predictors.\n",
    "\n",
    "# 6. **Gradient Boosting Machines (GBM)**:\n",
    "  # - An ensemble technique that combines the predictions of multiple weak learners (usually decision trees) to improve accuracy.\n",
    "\n",
    "# 7. **Neural Networks**:\n",
    "  # - Model complex relationships between inputs and outputs and find patterns in data using layers of interconnected nodes.\n",
    "\n",
    "# 8. **XGBoost**:\n",
    "  # - An efficient and scalable implementation of gradient boosting that works well for many classification tasks.\n",
    "\n"
   ]
  },
  {
   "cell_type": "code",
   "execution_count": 21,
   "id": "b9ad0e0c-7518-41e6-b95a-1e4bb9899b9e",
   "metadata": {},
   "outputs": [],
   "source": [
    "#Q11  What are Classification Evaluation Metrics ?"
   ]
  },
  {
   "cell_type": "code",
   "execution_count": 22,
   "id": "f1ab70d2-2906-4687-a4ef-fd7ec9a51583",
   "metadata": {},
   "outputs": [],
   "source": [
    "# **Classification Evaluation Metrics**:\n",
    "\n",
    "# 1. **Accuracy**: Ratio of correctly predicted instances.\n",
    "    # $$\\text{Accuracy} = \\frac{\\text{TP + TN}}{\\text{TP + TN + FP + FN}}$$\n",
    "\n",
    "# 2. **Precision**: Ratio of correctly predicted positives.\n",
    "    # $$\\text{Precision} = \\frac{\\text{TP}}{\\text{TP + FP}}$$\n",
    "\n",
    "# 3. **Recall**: Ratio of correctly predicted actual positives.\n",
    "    # $$\\text{Recall} = \\frac{\\text{TP}}{\\text{TP + FN}}$$\n",
    "\n",
    "# 4. **F1 Score**: Harmonic mean of Precision and Recall.\n",
    "    # $$\\text{F1 Score} = 2 \\cdot \\frac{\\text{Precision} \\cdot \\text{Recall}}{\\text{Precision + Recall}}$$\n",
    "\n",
    "# 5. **Specificity**: Ratio of correctly predicted actual negatives.\n",
    "    # $$\\text{Specificity} = \\frac{\\text{TN}}{\\text{TN + FP}}$$\n",
    "\n",
    "# 6. **ROC-AUC**: Measures the model's ability to distinguish between classes.\n",
    "\n",
    "# 7. **Confusion Matrix**: Counts of TP, TN, FP, and FN.\n",
    "\n",
    "# 8. **Log-Loss**: Penalizes incorrect classifications.\n",
    "    # $$\\text{Log-Loss} = - \\frac{1}{N} \\sum_{i=1}^{N} [y_i \\cdot \\log(\\hat{y}_i) + (1 - y_i) \\cdot \\log(1 - \\hat{y}_i)]$$\n",
    "\n"
   ]
  },
  {
   "cell_type": "code",
   "execution_count": 23,
   "id": "8bfee9dd-7641-48f4-8482-4348125ae3e9",
   "metadata": {},
   "outputs": [],
   "source": [
    "#Q12 How does class imbalance affect Logistic Regression ?"
   ]
  },
  {
   "cell_type": "code",
   "execution_count": 24,
   "id": "ca62ee1a-d13b-4ae6-981d-5b72aaab4395",
   "metadata": {},
   "outputs": [],
   "source": [
    "# Class imbalance can significantly affect Logistic Regression in several ways:\n",
    "\n",
    "# 1. **Bias Towards Majority Class**: The model tends to predict the majority class more often, leading to poor performance on the minority class.\n",
    "# 2. **Skewed Accuracy**: High accuracy may be misleading, as it can simply reflect the majority class's dominance.\n",
    "# 3. **Poor Recall and Precision for Minority Class**: The model may have low recall (sensitivity) and precision for the minority class, leading to missed detections and false positives.\n",
    "# 4. **Threshold Issues**: The decision threshold might not be optimal for the minority class, requiring adjustment to balance performance.\n",
    "\n"
   ]
  },
  {
   "cell_type": "code",
   "execution_count": 25,
   "id": "143b24d4-dd6e-4020-8a8e-065e2ecc8dcd",
   "metadata": {},
   "outputs": [],
   "source": [
    "#Q13 What is Hyperparameter Tuning in Logistic Regression ?"
   ]
  },
  {
   "cell_type": "code",
   "execution_count": 26,
   "id": "45a09f67-7a97-4e96-874f-c6c9bcee6737",
   "metadata": {},
   "outputs": [],
   "source": [
    "# **Hyperparameter tuning** in Logistic Regression involves adjusting the hyperparameters to optimize model performance.\n",
    "\n",
    "### Key Hyperparameters:\n",
    "# 1. **Regularization Strength (C)**: Controls the inverse of regularization strength (smaller values mean stronger regularization).\n",
    "# 2. **Penalty Type**: Type of regularization (L1, L2, Elastic Net).\n",
    "# 3. **Solver**: Optimization algorithm ('liblinear', 'lbfgs', 'saga').\n",
    "\n",
    "### Methods for Tuning:\n",
    "# 1. **Grid Search**: Exhaustive search over a grid of parameters.\n",
    "# 2. **Random Search**: Random sampling of hyperparameters.\n",
    "# 3. **Bayesian Optimization**: Uses probabilistic models for efficient tuning.\n",
    "# 4. **Cross-Validation**: Evaluates model performance with different hyperparameters.\n"
   ]
  },
  {
   "cell_type": "code",
   "execution_count": 27,
   "id": "eaee2297-3695-4b60-b09d-aef8bf7ace03",
   "metadata": {},
   "outputs": [],
   "source": [
    "#Q14  What are different solvers in Logistic Regression? Which one should be used ?"
   ]
  },
  {
   "cell_type": "code",
   "execution_count": 28,
   "id": "3affa35a-704d-4d48-99ac-2d0d906bdfcc",
   "metadata": {},
   "outputs": [],
   "source": [
    "# Logistic Regression in scikit-learn offers several solvers, each with its own advantages:\n",
    "\n",
    "#1. **liblinear**:\n",
    "   # - **Type**: Coordinate descent algorithm.\n",
    "   # - **Pros**: Good for small to medium-sized datasets and L1 regularization.\n",
    "   # - **Cons**: May be slow for large datasets.\n",
    "   # - **Use**: Suitable for binary classification and datasets with L1 regularization.\n",
    "\n",
    "#2. **lbfgs**:\n",
    "   # - **Type**: Limited-memory Broyden–Fletcher–Goldfarb–Shanno (BFGS) algorithm.\n",
    "   # - **Pros**: Efficient for large datasets and supports L2 regularization.\n",
    "   # - **Cons**: Does not support L1 regularization.\n",
    "   # - **Use**: Suitable for large datasets and multiclass classification (softmax).\n",
    "\n",
    "#3. **newton-cg**:\n",
    "   # - **Type**: Newton's conjugate gradient algorithm.\n",
    "   # - **Pros**: Efficient for large datasets and supports L2 regularization.\n",
    "   # - **Cons**: Can be slower than `lbfgs` for large datasets.\n",
    "   # - **Use**: Suitable for large datasets and multiclass classification (softmax).\n",
    "\n",
    "#4. **sag**:\n",
    "   # - **Type**: Stochastic Average Gradient descent.\n",
    "   # - **Pros**: Efficient for large datasets and supports L2 regularization.\n",
    "   # - **Cons**: Requires data to be normalized.\n",
    "   # - **Use**: Suitable for large datasets.\n",
    "\n",
    "#5. **saga**:\n",
    "   # - **Type**: Stochastic Average Gradient descent with support for L1, L2, and Elastic Net regularization.\n",
    "   # - **Pros**: Handles large datasets and sparse data well.\n",
    "   # - **Cons**: May be slower for very large datasets compared to `lbfgs`.\n",
    "   # - **Use**: Suitable for large datasets, supports L1, L2, and Elastic Net regularization.\n",
    "\n",
    "### Choosing the Right Solver:\n",
    "# - **Small to Medium-sized Datasets**: `liblinear`\n",
    "# - **Large Datasets**: `lbfgs`, `newton-cg`, `sag`, `saga`\n",
    "# - **L1 Regularization**: `liblinear`, `saga`\n",
    "# - **L2 Regularization**: `lbfgs`, `newton-cg`, `sag`, `saga`\n",
    "# - **Elastic Net Regularization**: `saga`\n",
    "# - **Multiclass Classification**: `lbfgs`, `newton-cg`, `saga`\n",
    "\n"
   ]
  },
  {
   "cell_type": "code",
   "execution_count": 29,
   "id": "ce32b398-1e7d-42b1-bd58-dd9649add01b",
   "metadata": {},
   "outputs": [],
   "source": [
    "#Q15 How is Logistic Regression extended for multiclass classification ?"
   ]
  },
  {
   "cell_type": "code",
   "execution_count": 30,
   "id": "2770a8c3-3246-4e82-a521-094039721969",
   "metadata": {},
   "outputs": [],
   "source": [
    "#Logistic Regression can be extended for multiclass classification using two main techniques:\n",
    "\n",
    "#1. **One-vs-Rest (OvR)**:\n",
    "   #- **Approach**: Trains one binary classifier per class. Each classifier distinguishes one class from all other classes.\n",
    "   #- **Prediction**: The class with the highest predicted probability is chosen.\n",
    "\n",
    "#2. **Softmax (Multinomial Logistic Regression)**:\n",
    "   #- **Approach**: Generalizes Logistic Regression to multiple classes by using the softmax function to predict probabilities across multiple classes.\n",
    "   #- **Prediction**: The class with the highest predicted probability is chosen.\n",
    "\n",
    "### Key Differences:\n",
    " # - **One-vs-Rest**: Simpler, can be used with any binary classifier, but may lead to imbalanced training sets.\n",
    " # - **Softmax**: More mathematically elegant, handles classes simultaneously, but may require more complex optimization.\n",
    "\n"
   ]
  },
  {
   "cell_type": "code",
   "execution_count": 31,
   "id": "9de70fc9-8515-4dad-877c-02aee2220d9b",
   "metadata": {},
   "outputs": [],
   "source": [
    "#Q16  What are the advantages and disadvantages of Logistic Regression ?"
   ]
  },
  {
   "cell_type": "code",
   "execution_count": 32,
   "id": "b78eda93-b65a-4461-b14a-582acc9f5c0a",
   "metadata": {},
   "outputs": [],
   "source": [
    "### Advantages of Logistic Regression:\n",
    "# 1. **Simplicity**: Easy to implement and interpret.\n",
    "# 2. **Probabilistic Output**: Provides probability estimates for class membership.\n",
    "# 3. **Feature Importance**: Coefficients indicate the importance of features.\n",
    "# 4. **Efficiency**: Requires fewer computational resources than more complex models.\n",
    "# 5. **Regularization**: Supports L1, L2, and Elastic Net regularization to prevent overfitting.\n",
    "# 6. **Multiclass Extensions**: Can be extended to multiclass problems using OvR or Softmax.\n",
    "\n",
    "### Disadvantages of Logistic Regression:\n",
    "# 1. **Linearity Assumption**: Assumes a linear relationship between the log-odds and predictors.\n",
    "# 2. **Performance on Non-linear Data**: Struggles with non-linear relationships unless feature engineering is used.\n",
    "# 3. **Outliers Sensitivity**: Sensitive to outliers, which can affect the model's performance.\n",
    "# 4. **Data Requirement**: Requires a large amount of data for reliable estimates.\n",
    "# 5. **Multicollinearity**: Performance can degrade with highly correlated predictors.\n"
   ]
  },
  {
   "cell_type": "code",
   "execution_count": 33,
   "id": "b4fc962f-78bb-4e84-bb51-0138777eb0aa",
   "metadata": {},
   "outputs": [],
   "source": [
    "#Q17  What are some use cases of Logistic Regression ?"
   ]
  },
  {
   "cell_type": "code",
   "execution_count": 34,
   "id": "41320e02-22ec-4e30-86e1-db71d757ccee",
   "metadata": {},
   "outputs": [],
   "source": [
    "# Logistic Regression is widely used in various fields for classification tasks. Here are some common use cases:\n",
    "\n",
    "# 1. **Medical Diagnosis**: Predicting the presence or absence of a disease based on patient data.\n",
    "# 2. **Credit Scoring**: Assessing the likelihood of a borrower defaulting on a loan.\n",
    "# 3. **Marketing**: Predicting customer responses to marketing campaigns, such as email click-through rates.\n",
    "# 4. **Fraud Detection**: Identifying fraudulent transactions in financial systems.\n",
    "# 5. **Spam Detection**: Classifying emails as spam or non-spam.\n",
    "# 6. **Customer Churn Prediction**: Determining the likelihood of customers leaving a service or subscription.\n",
    "# 7. **Voting Behavior**: Analyzing survey data to predict voting outcomes.\n",
    "# 8. **Ad Click Prediction**: Estimating the probability of an online ad being clicked by users.\n",
    "# 9. **Employee Attrition**: Predicting whether an employee will leave a company.\n",
    "# 10. **Quality Control**: Classifying products as defective or non-defective based on production data.\n"
   ]
  },
  {
   "cell_type": "code",
   "execution_count": 35,
   "id": "e1e20ed5-6c30-412c-a0a1-d4ed4842f21b",
   "metadata": {},
   "outputs": [],
   "source": [
    "#Q18  What is the difference between Softmax Regression and Logistic Regression ?"
   ]
  },
  {
   "cell_type": "code",
   "execution_count": 36,
   "id": "0c94c961-e8a7-4e2c-8a88-b45bbe7c5276",
   "metadata": {},
   "outputs": [],
   "source": [
    "# **Logistic Regression vs. Softmax Regression**:\n",
    "\n",
    "### Logistic Regression:\n",
    "# - **Application**: Binary classification.\n",
    "# - **Output**: Probability of a single class.\n",
    "# - **Function**: Sigmoid.\n",
    "\n",
    "### Softmax Regression:\n",
    "# - **Application**: Multiclass classification.\n",
    "# - **Output**: Probabilities for multiple classes.\n",
    "# - **Function**: Softmax.\n"
   ]
  },
  {
   "cell_type": "code",
   "execution_count": 37,
   "id": "4b0d9b89-8192-452d-8960-50fbf95265c5",
   "metadata": {},
   "outputs": [],
   "source": [
    "#Q19 How do we choose between One-vs-Rest (OvR) and Softmax for multiclass classification ?"
   ]
  },
  {
   "cell_type": "code",
   "execution_count": 38,
   "id": "eb65298b-30b0-4577-9d79-37fe1e0a90fe",
   "metadata": {},
   "outputs": [],
   "source": [
    "# ### Choosing Between One-vs-Rest (OvR) and Softmax:\n",
    "\n",
    "# 1. **Dataset Size and Complexity**:\n",
    "   # - **OvR**: Suitable for smaller datasets and simpler models.\n",
    "   # - **Softmax**: Better for larger datasets and more complex models.\n",
    "\n",
    "# 2. **Interpretability**:\n",
    "   # - **OvR**: Easier to interpret individual binary classifiers.\n",
    "   # - **Softmax**: More complex to interpret due to simultaneous class predictions.\n",
    "\n",
    "# 3. **Computational Efficiency**:\n",
    "   # - **OvR**: Can be computationally less expensive for small datasets.\n",
    "   # - **Softmax**: More efficient for large datasets and parallel processing.\n",
    "\n",
    "# 4. **Class Imbalance**:\n",
    "   # - **OvR**: Can handle class imbalance better by focusing on each class separately.\n",
    "   # - **Softmax**: May struggle with class imbalance as it considers all classes simultaneously.\n",
    "\n",
    "# 5. **Implementation Ease**:\n",
    "   # - **OvR**: Easier to implement with binary classifiers.\n",
    "   # - **Softmax**: Requires more complex implementation but is directly supported in many libraries.\n",
    "\n"
   ]
  },
  {
   "cell_type": "code",
   "execution_count": 39,
   "id": "cbd22b04-7524-4206-adc0-a5986472ae55",
   "metadata": {},
   "outputs": [],
   "source": [
    "#Q20 How do we interpret coefficients in Logistic Regression ?"
   ]
  },
  {
   "cell_type": "code",
   "execution_count": 40,
   "id": "b7e3fb13-1014-4aec-88bd-1ff730507173",
   "metadata": {},
   "outputs": [],
   "source": [
    "# In Logistic Regression, coefficients indicate the relationship between each predictor variable and the log-odds of the dependent variable.\n",
    "\n",
    "### Interpreting Coefficients:\n",
    "\n",
    "# 1. **Sign of the Coefficient**:\n",
    "   # - **Positive**: An increase in the predictor variable increases the log-odds of the outcome (more likely to occur).\n",
    "   # - **Negative**: An increase in the predictor variable decreases the log-odds of the outcome (less likely to occur).\n",
    "\n",
    "# 2. **Magnitude of the Coefficient**:\n",
    "   # - Indicates the strength of the effect of the predictor variable on the log-odds of the outcome.\n",
    "\n",
    "# 3. **Exponentiated Coefficient** (Odds Ratio):\n",
    "   # - **Odds Ratio > 1**: A one-unit increase in the predictor variable increases the odds of the outcome.\n",
    "   # - **Odds Ratio < 1**: A one-unit increase in the predictor variable decreases the odds of the outcome.\n",
    "   # - **Odds Ratio = 1**: The predictor variable has no effect on the odds of the outcome.\n",
    "\n",
    "### Example:\n",
    "# - If the coefficient (beta) for a predictor variable is 0.5, the odds ratio is (e^0.5) is approx 1.65.\n",
    "   # - This means a one-unit increase in the predictor variable increases the odds of the outcome by approximately 65%.\n",
    "\n"
   ]
  },
  {
   "cell_type": "markdown",
   "id": "eb56eb33-63a0-402f-a745-a3c537bd9b82",
   "metadata": {},
   "source": [
    "# Practical"
   ]
  },
  {
   "cell_type": "code",
   "execution_count": 41,
   "id": "70f6effb-6056-4d2a-992b-4c540b18955f",
   "metadata": {},
   "outputs": [],
   "source": [
    "#Q1 Write a Python program that loads a dataset, splits it into training and testing sets, applies Logistic Regression, and prints the model accuracy"
   ]
  },
  {
   "cell_type": "code",
   "execution_count": 43,
   "id": "06a70bda-04cf-4ae5-8ca8-fed298f745cc",
   "metadata": {},
   "outputs": [
    {
     "name": "stdout",
     "output_type": "stream",
     "text": [
      "Model Accuracy: 0.98\n"
     ]
    }
   ],
   "source": [
    "# Import necessary libraries\n",
    "import pandas as pd\n",
    "from sklearn.model_selection import train_test_split\n",
    "from sklearn.linear_model import LogisticRegression\n",
    "from sklearn.metrics import accuracy_score\n",
    "from sklearn.datasets import load_breast_cancer\n",
    "\n",
    "# Load dataset\n",
    "data = load_breast_cancer()\n",
    "X = pd.DataFrame(data.data, columns=data.feature_names)\n",
    "y = pd.Series(data.target)\n",
    "\n",
    "# Split dataset into training and testing sets\n",
    "X_train, X_test, y_train, y_test = train_test_split(X, y, test_size=0.3, random_state=42)\n",
    "\n",
    "# Apply Logistic Regression\n",
    "logistic_regression = LogisticRegression(max_iter=10000)  # Increase max_iter to ensure convergence\n",
    "logistic_regression.fit(X_train, y_train)\n",
    "\n",
    "# Predict the target values for the testing set\n",
    "y_pred = logistic_regression.predict(X_test)\n",
    "\n",
    "# Calculate and print the model accuracy\n",
    "accuracy = accuracy_score(y_test, y_pred)\n",
    "print(f\"Model Accuracy: {accuracy:.2f}\")\n"
   ]
  },
  {
   "cell_type": "code",
   "execution_count": 44,
   "id": "09336ccf-04e1-48c8-84b3-f1df0eefb98e",
   "metadata": {},
   "outputs": [],
   "source": [
    "#Q2  Write a Python program to apply L1 regularization (Lasso) on a dataset using LogisticRegression(penalty='l1') and print the model accuracy"
   ]
  },
  {
   "cell_type": "code",
   "execution_count": 45,
   "id": "d2917554-8f60-407d-9cab-159d4814c4ae",
   "metadata": {},
   "outputs": [
    {
     "name": "stdout",
     "output_type": "stream",
     "text": [
      "Model Accuracy with L1 Regularization: 0.96\n"
     ]
    }
   ],
   "source": [
    "\n",
    "\n",
    "# Load dataset\n",
    "data = load_breast_cancer()\n",
    "X = pd.DataFrame(data.data, columns=data.feature_names)\n",
    "y = pd.Series(data.target)\n",
    "\n",
    "# Split dataset into training and testing sets\n",
    "X_train, X_test, y_train, y_test = train_test_split(X, y, test_size=0.3, random_state=42)\n",
    "\n",
    "# Apply Logistic Regression with L1 regularization\n",
    "logistic_regression_l1 = LogisticRegression(penalty='l1', solver='liblinear', max_iter=10000)  # Solver 'liblinear' supports L1\n",
    "logistic_regression_l1.fit(X_train, y_train)\n",
    "\n",
    "# Predict the target values for the testing set\n",
    "y_pred = logistic_regression_l1.predict(X_test)\n",
    "\n",
    "# Calculate and print the model accuracy\n",
    "accuracy = accuracy_score(y_test, y_pred)\n",
    "print(f\"Model Accuracy with L1 Regularization: {accuracy:.2f}\")\n"
   ]
  },
  {
   "cell_type": "code",
   "execution_count": 46,
   "id": "c64425f6-777f-444e-a1f2-f7538bd3f1e6",
   "metadata": {},
   "outputs": [],
   "source": [
    "#Q3 Write a Python program to train Logistic Regression with L2 regularization (Ridge) using LogisticRegression(penalty='l2'). Print model accuracy and coefficients"
   ]
  },
  {
   "cell_type": "code",
   "execution_count": 47,
   "id": "51fc6234-edcc-4afe-b520-344b4a21e14d",
   "metadata": {},
   "outputs": [
    {
     "name": "stdout",
     "output_type": "stream",
     "text": [
      "Model Accuracy with L2 Regularization: 0.96\n",
      "Model Coefficients:\n",
      "[[ 2.13846208  0.16092494 -0.1241098  -0.0037681  -0.12295268 -0.41281261\n",
      "  -0.63500151 -0.32770649 -0.19190881 -0.03054153 -0.05069499  1.47185357\n",
      "   0.16254182 -0.11421312 -0.01303195 -0.03635493 -0.07122265 -0.03856509\n",
      "  -0.04679236 -0.00224173  1.1983844  -0.39390439 -0.08114434 -0.02126375\n",
      "  -0.22790709 -1.17814421 -1.56377204 -0.58641436 -0.69129138 -0.11586568]]\n"
     ]
    }
   ],
   "source": [
    "# Load dataset\n",
    "data = load_breast_cancer()\n",
    "X = pd.DataFrame(data.data, columns=data.feature_names)\n",
    "y = pd.Series(data.target)\n",
    "\n",
    "# Split dataset into training and testing sets\n",
    "X_train, X_test, y_train, y_test = train_test_split(X, y, test_size=0.3, random_state=42)\n",
    "\n",
    "# Apply Logistic Regression with L2 regularization\n",
    "logistic_regression_l2 = LogisticRegression(penalty='l2', solver='liblinear', max_iter=10000)  # 'liblinear' solver supports L2\n",
    "logistic_regression_l2.fit(X_train, y_train)\n",
    "\n",
    "# Predict the target values for the testing set\n",
    "y_pred = logistic_regression_l2.predict(X_test)\n",
    "\n",
    "# Calculate and print the model accuracy\n",
    "accuracy = accuracy_score(y_test, y_pred)\n",
    "print(f\"Model Accuracy with L2 Regularization: {accuracy:.2f}\")\n",
    "\n",
    "# Print the coefficients\n",
    "coefficients = logistic_regression_l2.coef_\n",
    "print(f\"Model Coefficients:\\n{coefficients}\")\n"
   ]
  },
  {
   "cell_type": "code",
   "execution_count": 48,
   "id": "51596f55-84b8-4999-a71d-17e669c6554e",
   "metadata": {},
   "outputs": [],
   "source": [
    "#Q4 Write a Python program to train Logistic Regression with Elastic Net Regularization (penalty='elasticnet')"
   ]
  },
  {
   "cell_type": "code",
   "execution_count": 49,
   "id": "41b2a825-bd3c-4b3f-acc9-ee5b807211fc",
   "metadata": {},
   "outputs": [
    {
     "name": "stdout",
     "output_type": "stream",
     "text": [
      "Model Accuracy with Elastic Net Regularization: 0.96\n",
      "Model Coefficients:\n",
      "[[ 1.31740423e-02  4.35276762e-03  6.78674162e-02  1.33856772e-02\n",
      "   0.00000000e+00 -2.16392103e-04 -4.83375045e-04 -1.24329621e-04\n",
      "   1.85161397e-05  0.00000000e+00  0.00000000e+00  5.63757692e-04\n",
      "  -1.04276253e-03 -2.19603903e-02  0.00000000e+00  0.00000000e+00\n",
      "  -1.16557971e-05  0.00000000e+00  0.00000000e+00  0.00000000e+00\n",
      "   1.36973353e-02 -4.31625232e-04  5.88961684e-02 -2.52261677e-02\n",
      "   0.00000000e+00 -1.11143837e-03 -1.52607640e-03 -3.15821985e-04\n",
      "  -4.00190605e-05  0.00000000e+00]]\n"
     ]
    }
   ],
   "source": [
    "# Load dataset\n",
    "data = load_breast_cancer()\n",
    "X = pd.DataFrame(data.data, columns=data.feature_names)\n",
    "y = pd.Series(data.target)\n",
    "\n",
    "# Split dataset into training and testing sets\n",
    "X_train, X_test, y_train, y_test = train_test_split(X, y, test_size=0.3, random_state=42)\n",
    "\n",
    "# Apply Logistic Regression with Elastic Net regularization\n",
    "logistic_regression_elastic_net = LogisticRegression(penalty='elasticnet', solver='saga', l1_ratio=0.5, max_iter=10000)\n",
    "logistic_regression_elastic_net.fit(X_train, y_train)\n",
    "\n",
    "# Predict the target values for the testing set\n",
    "y_pred = logistic_regression_elastic_net.predict(X_test)\n",
    "\n",
    "# Calculate and print the model accuracy\n",
    "accuracy = accuracy_score(y_test, y_pred)\n",
    "print(f\"Model Accuracy with Elastic Net Regularization: {accuracy:.2f}\")\n",
    "\n",
    "# Print the coefficients\n",
    "coefficients = logistic_regression_elastic_net.coef_\n",
    "print(f\"Model Coefficients:\\n{coefficients}\")\n"
   ]
  },
  {
   "cell_type": "code",
   "execution_count": 50,
   "id": "3ec03e6a-f7b3-4fca-835d-8d34ffeeeb51",
   "metadata": {},
   "outputs": [],
   "source": [
    "#Q5  Write a Python program to train a Logistic Regression model for multiclass classification using multi_class='ovr'"
   ]
  },
  {
   "cell_type": "code",
   "execution_count": 51,
   "id": "02163268-beef-499e-9b4f-6713892f5cdb",
   "metadata": {},
   "outputs": [
    {
     "name": "stdout",
     "output_type": "stream",
     "text": [
      "Model Accuracy with One-vs-Rest: 0.98\n",
      "Model Coefficients:\n",
      "[[ 0.36479402  1.35499766 -2.09628559 -0.92154751]\n",
      " [ 0.4808915  -1.58463288  0.3937527  -1.09224057]\n",
      " [-1.5286415  -1.43244729  2.3048277   2.08584535]]\n"
     ]
    },
    {
     "name": "stderr",
     "output_type": "stream",
     "text": [
      "C:\\Users\\adven\\AppData\\Local\\Programs\\Python\\Python312\\Lib\\site-packages\\sklearn\\linear_model\\_logistic.py:1256: FutureWarning: 'multi_class' was deprecated in version 1.5 and will be removed in 1.7. Use OneVsRestClassifier(LogisticRegression(..)) instead. Leave it to its default value to avoid this warning.\n",
      "  warnings.warn(\n"
     ]
    }
   ],
   "source": [
    "from sklearn.datasets import load_iris\n",
    "\n",
    "# Load dataset\n",
    "data = load_iris()\n",
    "X = pd.DataFrame(data.data, columns=data.feature_names)\n",
    "y = pd.Series(data.target)\n",
    "\n",
    "# Split dataset into training and testing sets\n",
    "X_train, X_test, y_train, y_test = train_test_split(X, y, test_size=0.3, random_state=42)\n",
    "\n",
    "# Apply Logistic Regression with multiclass 'ovr'\n",
    "logistic_regression_ovr = LogisticRegression(multi_class='ovr', solver='liblinear', max_iter=10000)\n",
    "logistic_regression_ovr.fit(X_train, y_train)\n",
    "\n",
    "# Predict the target values for the testing set\n",
    "y_pred = logistic_regression_ovr.predict(X_test)\n",
    "\n",
    "# Calculate and print the model accuracy\n",
    "accuracy = accuracy_score(y_test, y_pred)\n",
    "print(f\"Model Accuracy with One-vs-Rest: {accuracy:.2f}\")\n",
    "\n",
    "# Print the coefficients\n",
    "coefficients = logistic_regression_ovr.coef_\n",
    "print(f\"Model Coefficients:\\n{coefficients}\")\n"
   ]
  },
  {
   "cell_type": "code",
   "execution_count": 52,
   "id": "90940bf1-7a7b-41ed-83f1-43e4b3cc5e6c",
   "metadata": {},
   "outputs": [],
   "source": [
    "#Q6 Write a Python program to apply GridSearchCV to tune the hyperparameters (C and penalty) of Logistic Regression. Print the best parameters and accuracy"
   ]
  },
  {
   "cell_type": "code",
   "execution_count": 54,
   "id": "5bc2b8a3-e5bc-4fa6-b85e-6e39a85594c3",
   "metadata": {},
   "outputs": [
    {
     "name": "stdout",
     "output_type": "stream",
     "text": [
      "Best Parameters: {'C': 10, 'penalty': 'l2', 'solver': 'liblinear'}\n",
      "Model Accuracy: 1.00\n"
     ]
    }
   ],
   "source": [
    "# Import necessary libraries\n",
    "from sklearn.model_selection import GridSearchCV\n",
    "\n",
    "# Load dataset\n",
    "data = load_iris()\n",
    "X = pd.DataFrame(data.data, columns=data.feature_names)\n",
    "y = pd.Series(data.target)\n",
    "\n",
    "# Split dataset into training and testing sets\n",
    "X_train, X_test, y_train, y_test = train_test_split(X, y, test_size=0.3, random_state=42)\n",
    "\n",
    "# Set up the hyperparameter grid\n",
    "param_grid = {\n",
    "    'C': [0.1, 1, 10, 100],\n",
    "    'penalty': ['l1', 'l2'],\n",
    "    'solver': ['liblinear']  # 'liblinear' solver supports both 'l1' and 'l2' penalties\n",
    "}\n",
    "\n",
    "# Initialize the Logistic Regression model\n",
    "logistic_regression = LogisticRegression(max_iter=10000)\n",
    "\n",
    "# Apply GridSearchCV\n",
    "grid_search = GridSearchCV(estimator=logistic_regression, param_grid=param_grid, cv=5, scoring='accuracy')\n",
    "grid_search.fit(X_train, y_train)\n",
    "\n",
    "# Get the best parameters and accuracy\n",
    "best_params = grid_search.best_params_\n",
    "best_model = grid_search.best_estimator_\n",
    "y_pred = best_model.predict(X_test)\n",
    "accuracy = accuracy_score(y_test, y_pred)\n",
    "\n",
    "# Print the best parameters and model accuracy\n",
    "print(f\"Best Parameters: {best_params}\")\n",
    "print(f\"Model Accuracy: {accuracy:.2f}\")\n"
   ]
  },
  {
   "cell_type": "code",
   "execution_count": 55,
   "id": "8b770732-0f2a-4058-9ca7-3cb489374530",
   "metadata": {},
   "outputs": [],
   "source": [
    "#Q7  Write a Python program to evaluate Logistic Regression using Stratified K-Fold Cross-Validation. Print the average accuracy"
   ]
  },
  {
   "cell_type": "code",
   "execution_count": 56,
   "id": "3003ed7e-b337-4f28-a0a1-72890b4e737c",
   "metadata": {},
   "outputs": [
    {
     "name": "stdout",
     "output_type": "stream",
     "text": [
      "Average Accuracy with Stratified K-Fold Cross-Validation: 0.96\n"
     ]
    }
   ],
   "source": [
    "# Import necessary libraries\n",
    "\n",
    "from sklearn.model_selection import StratifiedKFold, cross_val_score\n",
    "\n",
    "\n",
    "# Load dataset\n",
    "data = load_iris()\n",
    "X = pd.DataFrame(data.data, columns=data.feature_names)\n",
    "y = pd.Series(data.target)\n",
    "\n",
    "# Initialize the Logistic Regression model\n",
    "logistic_regression = LogisticRegression(max_iter=10000, solver='liblinear')\n",
    "\n",
    "# Set up Stratified K-Fold Cross-Validation\n",
    "skf = StratifiedKFold(n_splits=5, shuffle=True, random_state=42)\n",
    "\n",
    "# Perform cross-validation and calculate accuracy for each fold\n",
    "cv_scores = cross_val_score(logistic_regression, X, y, cv=skf, scoring='accuracy')\n",
    "\n",
    "# Calculate and print the average accuracy\n",
    "average_accuracy = cv_scores.mean()\n",
    "print(f\"Average Accuracy with Stratified K-Fold Cross-Validation: {average_accuracy:.2f}\")\n"
   ]
  },
  {
   "cell_type": "code",
   "execution_count": 57,
   "id": "92c2279b-cfe7-44a9-b00e-9a570b72b34e",
   "metadata": {},
   "outputs": [],
   "source": [
    "#Q8 Write a Python program to load a dataset from a CSV file, apply Logistic Regression, and evaluate its accuracy."
   ]
  },
  {
   "cell_type": "code",
   "execution_count": 60,
   "id": "4e715389-9505-4ea7-b5c8-57cd2b4f8509",
   "metadata": {},
   "outputs": [
    {
     "name": "stdout",
     "output_type": "stream",
     "text": [
      "Model Accuracy: 1.00\n"
     ]
    }
   ],
   "source": [
    "\n",
    "\n",
    "# Sample CSV data \n",
    "csv_data = \"\"\"Name,Math,Science,Pass\n",
    "Shivam,78,85,1\n",
    "Malik,65,70,0\n",
    "Jane,80,95,1\n",
    "Shreya,50,40,0\n",
    "Mamta,90,92,1\n",
    "Sanjay,55,48,0\n",
    "\"\"\"\n",
    "\n",
    "# Save the CSV data to a file\n",
    "with open('students_scores.csv', 'w') as file:\n",
    "    file.write(csv_data)\n",
    "\n",
    "# Load dataset from CSV file\n",
    "file_path = 'students_scores.csv'\n",
    "data = pd.read_csv(file_path)\n",
    "\n",
    "# Select features and target variable (dropping the 'Name' column)\n",
    "X = data[['Math', 'Science']]\n",
    "y = data['Pass']\n",
    "\n",
    "# Split dataset into training and testing sets\n",
    "X_train, X_test, y_train, y_test = train_test_split(X, y, test_size=0.3, random_state=42)\n",
    "\n",
    "# Apply Logistic Regression\n",
    "logistic_regression = LogisticRegression(max_iter=10000)\n",
    "logistic_regression.fit(X_train, y_train)\n",
    "\n",
    "# Predict the target values for the testing set\n",
    "y_pred = logistic_regression.predict(X_test)\n",
    "\n",
    "# Calculate and print the model accuracy\n",
    "accuracy = accuracy_score(y_test, y_pred)\n",
    "print(f\"Model Accuracy: {accuracy:.2f}\")\n"
   ]
  },
  {
   "cell_type": "code",
   "execution_count": 61,
   "id": "654f9ef1-6d38-40b0-a927-e27338f2d870",
   "metadata": {},
   "outputs": [],
   "source": [
    "#Q9 Write a Python program to apply RandomizedSearchCV for tuning hyperparameters (C, penalty, solver) in Logistic Regression. Print the best parameters and accuracy"
   ]
  },
  {
   "cell_type": "code",
   "execution_count": 64,
   "id": "cad9c8d0-26ca-478d-9a30-6d5d0ab6aa41",
   "metadata": {},
   "outputs": [
    {
     "name": "stdout",
     "output_type": "stream",
     "text": [
      "Best Parameters: {'C': np.float64(2.4301794076057535), 'penalty': 'l1', 'solver': 'liblinear'}\n",
      "Model Accuracy: 0.96\n"
     ]
    }
   ],
   "source": [
    "# Import necessary libraries\n",
    "from sklearn.model_selection import  RandomizedSearchCV\n",
    "from scipy.stats import uniform\n",
    "\n",
    "# Load dataset\n",
    "data = load_breast_cancer()\n",
    "X = pd.DataFrame(data.data, columns=data.feature_names)\n",
    "y = pd.Series(data.target)\n",
    "\n",
    "# Split dataset into training and testing sets\n",
    "X_train, X_test, y_train, y_test = train_test_split(X, y, test_size=0.3, random_state=42)\n",
    "\n",
    "# Set up the hyperparameter grid\n",
    "param_distributions = {\n",
    "    'C': uniform(loc=0, scale=4),  # Randomly sample C values from 0 to 4\n",
    "    'penalty': ['l1', 'l2'],\n",
    "    'solver': ['liblinear', 'saga']  # Use solvers that support l1 and l2 penalties\n",
    "}\n",
    "\n",
    "# Initialize the Logistic Regression model\n",
    "logistic_regression = LogisticRegression(max_iter=10000)\n",
    "\n",
    "# Apply RandomizedSearchCV\n",
    "random_search = RandomizedSearchCV(estimator=logistic_regression, param_distributions=param_distributions, n_iter=100, cv=5, random_state=42, scoring='accuracy')\n",
    "random_search.fit(X_train, y_train)\n",
    "\n",
    "# Get the best parameters and accuracy\n",
    "best_params = random_search.best_params_\n",
    "best_model = random_search.best_estimator_\n",
    "y_pred = best_model.predict(X_test)\n",
    "accuracy = accuracy_score(y_test, y_pred)\n",
    "\n",
    "# Print the best parameters and model accuracy\n",
    "print(f\"Best Parameters: {best_params}\")\n",
    "print(f\"Model Accuracy: {accuracy:.2f}\")\n"
   ]
  },
  {
   "cell_type": "code",
   "execution_count": 65,
   "id": "3212130d-747f-48bd-a516-ba3587212b6b",
   "metadata": {},
   "outputs": [],
   "source": [
    "#Q10 Write a Python program to implement One-vs-One (OvO) Multiclass Logistic Regression and print accuracy"
   ]
  },
  {
   "cell_type": "code",
   "execution_count": 66,
   "id": "ed3f2bd9-a1fc-4995-8ad4-a1e7c6269701",
   "metadata": {},
   "outputs": [
    {
     "name": "stdout",
     "output_type": "stream",
     "text": [
      "Model Accuracy with One-vs-One (OvO) Multiclass Logistic Regression: 1.00\n"
     ]
    }
   ],
   "source": [
    "# Import necessary libraries\n",
    "\n",
    "from sklearn.multiclass import OneVsOneClassifier\n",
    "\n",
    "# Load dataset\n",
    "data = load_iris()\n",
    "X = pd.DataFrame(data.data, columns=data.feature_names)\n",
    "y = pd.Series(data.target)\n",
    "\n",
    "# Split dataset into training and testing sets\n",
    "X_train, X_test, y_train, y_test = train_test_split(X, y, test_size=0.3, random_state=42)\n",
    "\n",
    "# Apply One-vs-One (OvO) Logistic Regression\n",
    "ovo_logistic_regression = OneVsOneClassifier(LogisticRegression(max_iter=10000, solver='liblinear'))\n",
    "ovo_logistic_regression.fit(X_train, y_train)\n",
    "\n",
    "# Predict the target values for the testing set\n",
    "y_pred = ovo_logistic_regression.predict(X_test)\n",
    "\n",
    "# Calculate and print the model accuracy\n",
    "accuracy = accuracy_score(y_test, y_pred)\n",
    "print(f\"Model Accuracy with One-vs-One (OvO) Multiclass Logistic Regression: {accuracy:.2f}\")\n"
   ]
  },
  {
   "cell_type": "code",
   "execution_count": 67,
   "id": "b518bf65-4a26-4569-a7df-d75d85746eb8",
   "metadata": {},
   "outputs": [],
   "source": [
    "#Q11 Write a Python program to train a Logistic Regression model and visualize the confusion matrix for binary classification."
   ]
  },
  {
   "cell_type": "code",
   "execution_count": 68,
   "id": "13eb7959-f92a-4998-aab1-49d8dfa78e6e",
   "metadata": {},
   "outputs": [
    {
     "name": "stdout",
     "output_type": "stream",
     "text": [
      "Model Accuracy: 0.98\n"
     ]
    },
    {
     "data": {
      "image/png": "[encoded data removed]",
      "text/plain": [
       "<Figure size 800x600 with 2 Axes>"
      ]
     },
     "metadata": {},
     "output_type": "display_data"
    }
   ],
   "source": [
    "# Import necessary libraries\n",
    "import matplotlib.pyplot as plt\n",
    "import seaborn as sns\n",
    "from sklearn.metrics import confusion_matrix, accuracy_score\n",
    "\n",
    "# Load dataset\n",
    "data = load_breast_cancer()\n",
    "X = pd.DataFrame(data.data, columns=data.feature_names)\n",
    "y = pd.Series(data.target)\n",
    "\n",
    "# Split dataset into training and testing sets\n",
    "X_train, X_test, y_train, y_test = train_test_split(X, y, test_size=0.3, random_state=42)\n",
    "\n",
    "# Train Logistic Regression model\n",
    "logistic_regression = LogisticRegression(max_iter=10000)\n",
    "logistic_regression.fit(X_train, y_train)\n",
    "\n",
    "# Predict the target values for the testing set\n",
    "y_pred = logistic_regression.predict(X_test)\n",
    "\n",
    "# Calculate the confusion matrix\n",
    "conf_matrix = confusion_matrix(y_test, y_pred)\n",
    "\n",
    "# Calculate and print the model accuracy\n",
    "accuracy = accuracy_score(y_test, y_pred)\n",
    "print(f\"Model Accuracy: {accuracy:.2f}\")\n",
    "\n",
    "# Visualize the confusion matrix\n",
    "plt.figure(figsize=(8, 6))\n",
    "sns.heatmap(conf_matrix, annot=True, fmt='d', cmap='Blues', xticklabels=data.target_names, yticklabels=data.target_names)\n",
    "plt.xlabel('Predicted Labels')\n",
    "plt.ylabel('True Labels')\n",
    "plt.title('Confusion Matrix')\n",
    "plt.show()\n"
   ]
  },
  {
   "cell_type": "code",
   "execution_count": 69,
   "id": "79171b61-36bc-4af5-b296-6bafabd3c86f",
   "metadata": {},
   "outputs": [],
   "source": [
    "#Q12 Write a Python program to train a Logistic Regression model and evaluate its performance using Precision, Recall, and F1-Score."
   ]
  },
  {
   "cell_type": "code",
   "execution_count": 73,
   "id": "1b7941e7-2be4-4974-9d50-ff308ce37740",
   "metadata": {},
   "outputs": [
    {
     "name": "stdout",
     "output_type": "stream",
     "text": [
      "Model Accuracy: 0.98\n",
      "Precision: 0.98\n",
      "Recall: 0.98\n",
      "F1-Score: 0.98\n"
     ]
    }
   ],
   "source": [
    "# Import necessary libraries\n",
    "import pandas as pd\n",
    "from sklearn.model_selection import train_test_split\n",
    "from sklearn.linear_model import LogisticRegression\n",
    "from sklearn.metrics import precision_score, recall_score, f1_score, accuracy_score\n",
    "from sklearn.datasets import load_breast_cancer\n",
    "\n",
    "# Load dataset\n",
    "data = load_breast_cancer()\n",
    "X = pd.DataFrame(data.data, columns=data.feature_names)\n",
    "y = pd.Series(data.target)\n",
    "\n",
    "# Split dataset into training and testing sets\n",
    "X_train, X_test, y_train, y_test = train_test_split(X, y, test_size=0.3, random_state=42)\n",
    "\n",
    "# Train Logistic Regression model\n",
    "logistic_regression = LogisticRegression(max_iter=10000)\n",
    "logistic_regression.fit(X_train, y_train)\n",
    "\n",
    "# Predict the target values for the testing set\n",
    "y_pred = logistic_regression.predict(X_test)\n",
    "\n",
    "# Calculate the performance metrics\n",
    "precision = precision_score(y_test, y_pred)\n",
    "recall = recall_score(y_test, y_pred)\n",
    "f1 = f1_score(y_test, y_pred)\n",
    "accuracy = accuracy_score(y_test, y_pred)\n",
    "\n",
    "# Print the performance metrics\n",
    "print(f\"Model Accuracy: {accuracy:.2f}\")\n",
    "print(f\"Precision: {precision:.2f}\")\n",
    "print(f\"Recall: {recall:.2f}\")\n",
    "print(f\"F1-Score: {f1:.2f}\")\n"
   ]
  },
  {
   "cell_type": "code",
   "execution_count": 71,
   "id": "383268c3-dfb2-4985-a3dd-75ffae2f6a7d",
   "metadata": {},
   "outputs": [],
   "source": [
    "#Q13 Write a Python program to train a Logistic Regression model on imbalanced data and apply class weights to improve model performance ?"
   ]
  },
  {
   "cell_type": "code",
   "execution_count": 75,
   "id": "96b0a981-98fd-4f26-9a40-cc9eb7ade30f",
   "metadata": {},
   "outputs": [
    {
     "name": "stdout",
     "output_type": "stream",
     "text": [
      "Model Accuracy: 0.97\n",
      "Precision: 0.98\n",
      "Recall: 0.97\n",
      "F1-Score: 0.98\n"
     ]
    }
   ],
   "source": [
    "\n",
    "# Load dataset\n",
    "data = load_breast_cancer()\n",
    "X = pd.DataFrame(data.data, columns=data.feature_names)\n",
    "y = pd.Series(data.target)\n",
    "\n",
    "# Split dataset into training and testing sets\n",
    "X_train, X_test, y_train, y_test = train_test_split(X, y, test_size=0.3, random_state=42)\n",
    "\n",
    "# Train Logistic Regression model with class weights\n",
    "logistic_regression = LogisticRegression(class_weight='balanced', max_iter=10000)\n",
    "logistic_regression.fit(X_train, y_train)\n",
    "\n",
    "# Predict the target values for the testing set\n",
    "y_pred = logistic_regression.predict(X_test)\n",
    "\n",
    "# Evaluate the model's performance\n",
    "accuracy = accuracy_score(y_test, y_pred)\n",
    "precision = precision_score(y_test, y_pred)\n",
    "recall = recall_score(y_test, y_pred)\n",
    "f1 = f1_score(y_test, y_pred)\n",
    "\n",
    "# Print the performance metrics\n",
    "print(f\"Model Accuracy: {accuracy:.2f}\")\n",
    "print(f\"Precision: {precision:.2f}\")\n",
    "print(f\"Recall: {recall:.2f}\")\n",
    "print(f\"F1-Score: {f1:.2f}\")\n"
   ]
  },
  {
   "cell_type": "code",
   "execution_count": 76,
   "id": "48b4a381-d2c7-4926-842e-1bab3b2aa2f0",
   "metadata": {},
   "outputs": [],
   "source": [
    "#Q14 Write a Python program to train Logistic Regression on the Titanic dataset, handle missing values, and evaluate performance."
   ]
  },
  {
   "cell_type": "code",
   "execution_count": 77,
   "id": "7a30556b-d00f-401e-8500-e61710cfc475",
   "metadata": {},
   "outputs": [
    {
     "name": "stdout",
     "output_type": "stream",
     "text": [
      "Model Accuracy: 0.82\n",
      "Precision: 0.81\n",
      "Recall: 0.75\n",
      "F1-Score: 0.78\n"
     ]
    }
   ],
   "source": [
    "\n",
    "# Load the Titanic dataset\n",
    "titanic_data = sns.load_dataset('titanic')\n",
    "\n",
    "# Handle missing values\n",
    "titanic_data = titanic_data.drop(['deck', 'embark_town', 'alive'], axis=1)  # Drop columns with many missing values\n",
    "titanic_data = titanic_data.dropna()  # Drop rows with any remaining missing values\n",
    "\n",
    "# Convert categorical features into numerical\n",
    "titanic_data['sex'] = titanic_data['sex'].map({'male': 0, 'female': 1})\n",
    "titanic_data['embarked'] = titanic_data['embarked'].map({'C': 0, 'Q': 1, 'S': 2})\n",
    "titanic_data['class'] = titanic_data['class'].map({'First': 1, 'Second': 2, 'Third': 3})\n",
    "titanic_data['who'] = titanic_data['who'].map({'man': 0, 'woman': 1, 'child': 2})\n",
    "titanic_data['adult_male'] = titanic_data['adult_male'].astype(int)\n",
    "titanic_data['alone'] = titanic_data['alone'].astype(int)\n",
    "\n",
    "# Select features and target variable\n",
    "X = titanic_data.drop(['survived'], axis=1)\n",
    "y = titanic_data['survived']\n",
    "\n",
    "# Split dataset into training and testing sets\n",
    "X_train, X_test, y_train, y_test = train_test_split(X, y, test_size=0.3, random_state=42)\n",
    "\n",
    "# Train Logistic Regression model\n",
    "logistic_regression = LogisticRegression(max_iter=10000)\n",
    "logistic_regression.fit(X_train, y_train)\n",
    "\n",
    "# Predict the target values for the testing set\n",
    "y_pred = logistic_regression.predict(X_test)\n",
    "\n",
    "# Evaluate the model's performance\n",
    "accuracy = accuracy_score(y_test, y_pred)\n",
    "precision = precision_score(y_test, y_pred)\n",
    "recall = recall_score(y_test, y_pred)\n",
    "f1 = f1_score(y_test, y_pred)\n",
    "\n",
    "# Print the performance metrics\n",
    "print(f\"Model Accuracy: {accuracy:.2f}\")\n",
    "print(f\"Precision: {precision:.2f}\")\n",
    "print(f\"Recall: {recall:.2f}\")\n",
    "print(f\"F1-Score: {f1:.2f}\")\n"
   ]
  },
  {
   "cell_type": "code",
   "execution_count": 78,
   "id": "eb15fcab-4e6a-4c28-b96b-cb95fdbf3c8b",
   "metadata": {},
   "outputs": [],
   "source": [
    "#Q15  Write a Python program to apply feature scaling (Standardization) before training a Logistic Regression model. Evaluate its accuracy and compare results with and without scaling"
   ]
  },
  {
   "cell_type": "code",
   "execution_count": 79,
   "id": "d3569a1e-d83e-4c6c-85d8-587ebabe2bca",
   "metadata": {},
   "outputs": [
    {
     "name": "stdout",
     "output_type": "stream",
     "text": [
      "Model Accuracy without Scaling: 0.98\n",
      "Model Accuracy with Scaling: 0.98\n"
     ]
    }
   ],
   "source": [
    "# Import necessary libraries\n",
    "from sklearn.preprocessing import StandardScaler\n",
    "\n",
    "# Load dataset\n",
    "data = load_breast_cancer()\n",
    "X = pd.DataFrame(data.data, columns=data.feature_names)\n",
    "y = pd.Series(data.target)\n",
    "\n",
    "# Split dataset into training and testing sets\n",
    "X_train, X_test, y_train, y_test = train_test_split(X, y, test_size=0.3, random_state=42)\n",
    "\n",
    "# Apply Logistic Regression without scaling\n",
    "logistic_regression = LogisticRegression(max_iter=10000)\n",
    "logistic_regression.fit(X_train, y_train)\n",
    "y_pred_no_scaling = logistic_regression.predict(X_test)\n",
    "accuracy_no_scaling = accuracy_score(y_test, y_pred_no_scaling)\n",
    "\n",
    "# Apply feature scaling (standardization)\n",
    "scaler = StandardScaler()\n",
    "X_train_scaled = scaler.fit_transform(X_train)\n",
    "X_test_scaled = scaler.transform(X_test)\n",
    "\n",
    "# Apply Logistic Regression with scaling\n",
    "logistic_regression_scaled = LogisticRegression(max_iter=10000)\n",
    "logistic_regression_scaled.fit(X_train_scaled, y_train)\n",
    "y_pred_scaling = logistic_regression_scaled.predict(X_test_scaled)\n",
    "accuracy_scaling = accuracy_score(y_test, y_pred_scaling)\n",
    "\n",
    "# Print the accuracy results\n",
    "print(f\"Model Accuracy without Scaling: {accuracy_no_scaling:.2f}\")\n",
    "print(f\"Model Accuracy with Scaling: {accuracy_scaling:.2f}\")\n"
   ]
  },
  {
   "cell_type": "code",
   "execution_count": 80,
   "id": "fe4a825e-712e-473e-beab-5ecd39e3ed74",
   "metadata": {},
   "outputs": [],
   "source": [
    "#Q16 Write a Python program to train Logistic Regression and evaluate its performance using ROC-AUC score."
   ]
  },
  {
   "cell_type": "code",
   "execution_count": 81,
   "id": "0da93d5e-2708-416f-88d5-ca33ca3727d9",
   "metadata": {},
   "outputs": [
    {
     "name": "stdout",
     "output_type": "stream",
     "text": [
      "ROC-AUC Score: 1.00\n"
     ]
    },
    {
     "data": {
      "image/png": "[encoded data removed]",
      "text/plain": [
       "<Figure size 800x600 with 1 Axes>"
      ]
     },
     "metadata": {},
     "output_type": "display_data"
    }
   ],
   "source": [
    "# Import necessary libraries\n",
    "\n",
    "from sklearn.metrics import roc_auc_score, roc_curve\n",
    "\n",
    "\n",
    "# Load dataset\n",
    "data = load_breast_cancer()\n",
    "X = pd.DataFrame(data.data, columns=data.feature_names)\n",
    "y = pd.Series(data.target)\n",
    "\n",
    "# Split dataset into training and testing sets\n",
    "X_train, X_test, y_train, y_test = train_test_split(X, y, test_size=0.3, random_state=42)\n",
    "\n",
    "# Train Logistic Regression model\n",
    "logistic_regression = LogisticRegression(max_iter=10000)\n",
    "logistic_regression.fit(X_train, y_train)\n",
    "\n",
    "# Predict probabilities for the testing set\n",
    "y_prob = logistic_regression.predict_proba(X_test)[:, 1]\n",
    "\n",
    "# Calculate the ROC-AUC score\n",
    "roc_auc = roc_auc_score(y_test, y_prob)\n",
    "print(f\"ROC-AUC Score: {roc_auc:.2f}\")\n",
    "\n",
    "# Plot the ROC curve\n",
    "fpr, tpr, thresholds = roc_curve(y_test, y_prob)\n",
    "plt.figure(figsize=(8, 6))\n",
    "plt.plot(fpr, tpr, label=f'ROC Curve (area = {roc_auc:.2f})')\n",
    "plt.plot([0, 1], [0, 1], 'k--')  # Diagonal line\n",
    "plt.xlabel('False Positive Rate')\n",
    "plt.ylabel('True Positive Rate')\n",
    "plt.title('Receiver Operating Characteristic (ROC) Curve')\n",
    "plt.legend(loc='lower right')\n",
    "plt.show()\n"
   ]
  },
  {
   "cell_type": "code",
   "execution_count": 82,
   "id": "73348cde-d9c0-41e0-94c0-aa244006a5e8",
   "metadata": {},
   "outputs": [],
   "source": [
    "#Q17 Write a Python program to train Logistic Regression using a custom learning rate (C=0.5) and evaluate accuracy"
   ]
  },
  {
   "cell_type": "code",
   "execution_count": 83,
   "id": "95699659-55b0-45e2-985a-ae4e74ba4656",
   "metadata": {},
   "outputs": [
    {
     "name": "stdout",
     "output_type": "stream",
     "text": [
      "Model Accuracy with C=0.5: 0.98\n"
     ]
    }
   ],
   "source": [
    "\n",
    "# Load dataset\n",
    "data = load_breast_cancer()\n",
    "X = pd.DataFrame(data.data, columns=data.feature_names)\n",
    "y = pd.Series(data.target)\n",
    "\n",
    "# Split dataset into training and testing sets\n",
    "X_train, X_test, y_train, y_test = train_test_split(X, y, test_size=0.3, random_state=42)\n",
    "\n",
    "# Train Logistic Regression model with custom regularization strength (C=0.5)\n",
    "logistic_regression = LogisticRegression(C=0.5, max_iter=10000)\n",
    "logistic_regression.fit(X_train, y_train)\n",
    "\n",
    "# Predict the target values for the testing set\n",
    "y_pred = logistic_regression.predict(X_test)\n",
    "\n",
    "# Evaluate the model's accuracy\n",
    "accuracy = accuracy_score(y_test, y_pred)\n",
    "\n",
    "# Print the accuracy\n",
    "print(f\"Model Accuracy with C=0.5: {accuracy:.2f}\")\n"
   ]
  },
  {
   "cell_type": "code",
   "execution_count": 84,
   "id": "b3fb0d4c-d0a0-4f48-be29-47b196d170d0",
   "metadata": {},
   "outputs": [],
   "source": [
    "#Q18 Write a Python program to train Logistic Regression and identify important features based on model coefficients"
   ]
  },
  {
   "cell_type": "code",
   "execution_count": 85,
   "id": "9839bdf6-5fec-413f-bb63-1edc081dffed",
   "metadata": {},
   "outputs": [
    {
     "name": "stdout",
     "output_type": "stream",
     "text": [
      "                    Feature  Coefficient  Absolute Coefficient\n",
      "11            texture error     1.367137              1.367137\n",
      "26          worst concavity    -1.347396              1.347396\n",
      "0               mean radius     1.072710              1.072710\n",
      "28           worst symmetry    -0.726569              0.726569\n",
      "25        worst compactness    -0.699797              0.699797\n",
      "6            mean concavity    -0.521544              0.521544\n",
      "27     worst concave points    -0.511330              0.511330\n",
      "21            worst texture    -0.506186              0.506186\n",
      "12          perimeter error     0.464438              0.464438\n",
      "2            mean perimeter    -0.393207              0.393207\n",
      "7       mean concave points    -0.285445              0.285445\n",
      "24         worst smoothness    -0.281516              0.281516\n",
      "5          mean compactness    -0.235434              0.235434\n",
      "1              mean texture     0.231023              0.231023\n",
      "8             mean symmetry    -0.222145              0.222145\n",
      "13               area error    -0.146414              0.146414\n",
      "4           mean smoothness    -0.140042              0.140042\n",
      "10             radius error    -0.122222              0.122222\n",
      "29  worst fractal dimension    -0.096326              0.096326\n",
      "16          concavity error    -0.060977              0.060977\n",
      "22          worst perimeter    -0.060514              0.060514\n",
      "20             worst radius     0.049482              0.049482\n",
      "18           symmetry error    -0.044266              0.044266\n",
      "9    mean fractal dimension    -0.037026              0.037026\n",
      "17     concave points error    -0.036133              0.036133\n",
      "3                 mean area     0.026081              0.026081\n",
      "14         smoothness error    -0.018963              0.018963\n",
      "15        compactness error     0.013589              0.013589\n",
      "23               worst area    -0.011031              0.011031\n",
      "19  fractal dimension error     0.001627              0.001627\n",
      "\n",
      "Top 10 Important Features:\n",
      "                 Feature  Coefficient  Absolute Coefficient\n",
      "11         texture error     1.367137              1.367137\n",
      "26       worst concavity    -1.347396              1.347396\n",
      "0            mean radius     1.072710              1.072710\n",
      "28        worst symmetry    -0.726569              0.726569\n",
      "25     worst compactness    -0.699797              0.699797\n",
      "6         mean concavity    -0.521544              0.521544\n",
      "27  worst concave points    -0.511330              0.511330\n",
      "21         worst texture    -0.506186              0.506186\n",
      "12       perimeter error     0.464438              0.464438\n",
      "2         mean perimeter    -0.393207              0.393207\n"
     ]
    }
   ],
   "source": [
    "\n",
    "# Load dataset\n",
    "data = load_breast_cancer()\n",
    "X = pd.DataFrame(data.data, columns=data.feature_names)\n",
    "y = pd.Series(data.target)\n",
    "\n",
    "# Split dataset into training and testing sets\n",
    "X_train, X_test, y_train, y_test = train_test_split(X, y, test_size=0.3, random_state=42)\n",
    "\n",
    "# Train Logistic Regression model\n",
    "logistic_regression = LogisticRegression(max_iter=10000)\n",
    "logistic_regression.fit(X_train, y_train)\n",
    "\n",
    "# Identify and print important features based on model coefficients\n",
    "feature_importance = pd.DataFrame({\n",
    "    'Feature': data.feature_names,\n",
    "    'Coefficient': logistic_regression.coef_[0]\n",
    "})\n",
    "\n",
    "# Sort features by absolute value of coefficients\n",
    "feature_importance['Absolute Coefficient'] = feature_importance['Coefficient'].abs()\n",
    "feature_importance = feature_importance.sort_values(by='Absolute Coefficient', ascending=False)\n",
    "\n",
    "print(feature_importance)\n",
    "\n",
    "# Print top 10 important features\n",
    "print(\"\\nTop 10 Important Features:\")\n",
    "print(feature_importance.head(10))\n"
   ]
  },
  {
   "cell_type": "code",
   "execution_count": 86,
   "id": "bf689947-e0f2-4a4f-8e59-b0ac05061b46",
   "metadata": {},
   "outputs": [],
   "source": [
    "#Q19 Write a Python program to train Logistic Regression and evaluate its performance using Cohen’s Kappa Score"
   ]
  },
  {
   "cell_type": "code",
   "execution_count": 87,
   "id": "e9d5264c-d7a2-4097-baf6-0c4764a11b69",
   "metadata": {},
   "outputs": [
    {
     "name": "stdout",
     "output_type": "stream",
     "text": [
      "Model Accuracy: 0.98\n",
      "Cohen's Kappa Score: 0.95\n"
     ]
    }
   ],
   "source": [
    "# Import necessary libraries\n",
    "\n",
    "from sklearn.metrics import cohen_kappa_score, accuracy_score\n",
    "\n",
    "\n",
    "# Load dataset\n",
    "data = load_breast_cancer()\n",
    "X = pd.DataFrame(data.data, columns=data.feature_names)\n",
    "y = pd.Series(data.target)\n",
    "\n",
    "# Split dataset into training and testing sets\n",
    "X_train, X_test, y_train, y_test = train_test_split(X, y, test_size=0.3, random_state=42)\n",
    "\n",
    "# Train Logistic Regression model\n",
    "logistic_regression = LogisticRegression(max_iter=10000)\n",
    "logistic_regression.fit(X_train, y_train)\n",
    "\n",
    "# Predict the target values for the testing set\n",
    "y_pred = logistic_regression.predict(X_test)\n",
    "\n",
    "# Calculate Cohen's Kappa score\n",
    "kappa_score = cohen_kappa_score(y_test, y_pred)\n",
    "\n",
    "# Print the performance metrics\n",
    "print(f\"Model Accuracy: {accuracy_score(y_test, y_pred):.2f}\")\n",
    "print(f\"Cohen's Kappa Score: {kappa_score:.2f}\")\n"
   ]
  },
  {
   "cell_type": "code",
   "execution_count": 88,
   "id": "37c08264-8211-4a79-97b0-aaf640b1bd85",
   "metadata": {},
   "outputs": [],
   "source": [
    "#Q20 Write a Python program to train Logistic Regression and visualize the Precision-Recall Curve for binary classification"
   ]
  },
  {
   "cell_type": "code",
   "execution_count": 89,
   "id": "feae1a7d-30f9-41f6-bd9a-aa61bd4e8513",
   "metadata": {},
   "outputs": [
    {
     "data": {
      "image/png": "[encoded data removed]",
      "text/plain": [
       "<Figure size 800x600 with 1 Axes>"
      ]
     },
     "metadata": {},
     "output_type": "display_data"
    }
   ],
   "source": [
    "# Import necessary libraries\n",
    "\n",
    "from sklearn.metrics import precision_recall_curve, average_precision_score\n",
    "\n",
    "\n",
    "# Load dataset\n",
    "data = load_breast_cancer()\n",
    "X = pd.DataFrame(data.data, columns=data.feature_names)\n",
    "y = pd.Series(data.target)\n",
    "\n",
    "# Split dataset into training and testing sets\n",
    "X_train, X_test, y_train, y_test = train_test_split(X, y, test_size=0.3, random_state=42)\n",
    "\n",
    "# Train Logistic Regression model\n",
    "logistic_regression = LogisticRegression(max_iter=10000)\n",
    "logistic_regression.fit(X_train, y_train)\n",
    "\n",
    "# Predict probabilities for the testing set\n",
    "y_prob = logistic_regression.predict_proba(X_test)[:, 1]\n",
    "\n",
    "# Calculate precision-recall curve\n",
    "precision, recall, thresholds = precision_recall_curve(y_test, y_prob)\n",
    "average_precision = average_precision_score(y_test, y_prob)\n",
    "\n",
    "# Plot the Precision-Recall curve\n",
    "plt.figure(figsize=(8, 6))\n",
    "plt.plot(recall, precision, label=f'Precision-Recall curve (area = {average_precision:.2f})')\n",
    "plt.xlabel('Recall')\n",
    "plt.ylabel('Precision')\n",
    "plt.title('Precision-Recall Curve')\n",
    "plt.legend(loc='lower left')\n",
    "plt.show()\n"
   ]
  },
  {
   "cell_type": "code",
   "execution_count": 90,
   "id": "b09aafe1-bda3-4854-a53d-16be2510c2a4",
   "metadata": {},
   "outputs": [],
   "source": [
    "#Q21 Write a Python program to train Logistic Regression with different solvers (liblinear, saga, lbfgs) and compare their accuracy"
   ]
  },
  {
   "cell_type": "code",
   "execution_count": 91,
   "id": "225cea8c-85f1-445b-9652-be57272b39fd",
   "metadata": {},
   "outputs": [
    {
     "name": "stdout",
     "output_type": "stream",
     "text": [
      "Model Accuracy with liblinear solver: 0.96\n",
      "Model Accuracy with saga solver: 0.96\n",
      "Model Accuracy with lbfgs solver: 0.98\n"
     ]
    }
   ],
   "source": [
    "\n",
    "# Load dataset\n",
    "data = load_breast_cancer()\n",
    "X = pd.DataFrame(data.data, columns=data.feature_names)\n",
    "y = pd.Series(data.target)\n",
    "\n",
    "# Split dataset into training and testing sets\n",
    "X_train, X_test, y_train, y_test = train_test_split(X, y, test_size=0.3, random_state=42)\n",
    "\n",
    "# List of solvers to compare\n",
    "solvers = ['liblinear', 'saga', 'lbfgs']\n",
    "accuracy_results = {}\n",
    "\n",
    "# Train Logistic Regression models with different solvers\n",
    "for solver in solvers:\n",
    "    logistic_regression = LogisticRegression(solver=solver, max_iter=10000)\n",
    "    logistic_regression.fit(X_train, y_train)\n",
    "    \n",
    "    # Predict the target values for the testing set\n",
    "    y_pred = logistic_regression.predict(X_test)\n",
    "    \n",
    "    # Calculate the model accuracy\n",
    "    accuracy = accuracy_score(y_test, y_pred)\n",
    "    accuracy_results[solver] = accuracy\n",
    "\n",
    "# Print the accuracy results\n",
    "for solver, accuracy in accuracy_results.items():\n",
    "    print(f\"Model Accuracy with {solver} solver: {accuracy:.2f}\")\n"
   ]
  },
  {
   "cell_type": "code",
   "execution_count": 92,
   "id": "24df4b9e-c186-4e56-baf7-a5efe97863e6",
   "metadata": {},
   "outputs": [],
   "source": [
    "#Q22 Write a Python program to train Logistic Regression and evaluate its performance using Matthews Correlation Coefficient (MCC)"
   ]
  },
  {
   "cell_type": "code",
   "execution_count": 93,
   "id": "6d110d2b-4844-4cb5-bff4-dc3d61771c9d",
   "metadata": {},
   "outputs": [
    {
     "name": "stdout",
     "output_type": "stream",
     "text": [
      "Model Accuracy: 0.98\n",
      "Matthews Correlation Coefficient (MCC): 0.95\n"
     ]
    }
   ],
   "source": [
    "# Import necessary libraries\n",
    "\n",
    "from sklearn.metrics import matthews_corrcoef, accuracy_score\n",
    "\n",
    "\n",
    "# Load dataset\n",
    "data = load_breast_cancer()\n",
    "X = pd.DataFrame(data.data, columns=data.feature_names)\n",
    "y = pd.Series(data.target)\n",
    "\n",
    "# Split dataset into training and testing sets\n",
    "X_train, X_test, y_train, y_test = train_test_split(X, y, test_size=0.3, random_state=42)\n",
    "\n",
    "# Train Logistic Regression model\n",
    "logistic_regression = LogisticRegression(max_iter=10000)\n",
    "logistic_regression.fit(X_train, y_train)\n",
    "\n",
    "# Predict the target values for the testing set\n",
    "y_pred = logistic_regression.predict(X_test)\n",
    "\n",
    "# Calculate Matthews Correlation Coefficient (MCC)\n",
    "mcc = matthews_corrcoef(y_test, y_pred)\n",
    "\n",
    "# Print the performance metrics\n",
    "print(f\"Model Accuracy: {accuracy_score(y_test, y_pred):.2f}\")\n",
    "print(f\"Matthews Correlation Coefficient (MCC): {mcc:.2f}\")\n"
   ]
  },
  {
   "cell_type": "code",
   "execution_count": 94,
   "id": "9695cb41-a2be-4749-aa61-d8733dc8a6d1",
   "metadata": {},
   "outputs": [],
   "source": [
    "#Q23  Write a Python program to train Logistic Regression on both raw and standardized data. Compare their accuracy to see the impact of feature scaling"
   ]
  },
  {
   "cell_type": "code",
   "execution_count": 98,
   "id": "a27d1e8e-5013-4577-bef5-1b8cd39bc598",
   "metadata": {},
   "outputs": [
    {
     "name": "stdout",
     "output_type": "stream",
     "text": [
      "Model Accuracy on Raw Data: 0.98\n",
      "Model Accuracy on Scaled Data: 0.98\n"
     ]
    }
   ],
   "source": [
    "\n",
    "# Load dataset\n",
    "data = load_breast_cancer()\n",
    "X = pd.DataFrame(data.data, columns=data.feature_names)\n",
    "y = pd.Series(data.target)\n",
    "\n",
    "# Split dataset into training and testing sets\n",
    "X_train, X_test, y_train, y_test = train_test_split(X, y, test_size=0.3, random_state=42)\n",
    "\n",
    "# Train Logistic Regression model on raw data\n",
    "logistic_regression_raw = LogisticRegression(max_iter=10000)\n",
    "logistic_regression_raw.fit(X_train, y_train)\n",
    "y_pred_raw = logistic_regression_raw.predict(X_test)\n",
    "accuracy_raw = accuracy_score(y_test, y_pred_raw)\n",
    "\n",
    "# Apply feature scaling (standardization)\n",
    "scaler = StandardScaler()\n",
    "X_train_scaled = scaler.fit_transform(X_train)\n",
    "X_test_scaled = scaler.transform(X_test)\n",
    "\n",
    "# Train Logistic Regression model on scaled data\n",
    "logistic_regression_scaled = LogisticRegression(max_iter=10000)\n",
    "logistic_regression_scaled.fit(X_train_scaled, y_train)\n",
    "y_pred_scaled = logistic_regression_scaled.predict(X_test_scaled)\n",
    "accuracy_scaled = accuracy_score(y_test, y_pred_scaled)\n",
    "\n",
    "# Print the accuracy results\n",
    "print(f\"Model Accuracy on Raw Data: {accuracy_raw:.2f}\")\n",
    "print(f\"Model Accuracy on Scaled Data: {accuracy_scaled:.2f}\")\n"
   ]
  },
  {
   "cell_type": "code",
   "execution_count": 99,
   "id": "70a0a964-2880-4ffa-9251-404b8afc5947",
   "metadata": {},
   "outputs": [],
   "source": [
    "#Q24 Write a Python program to train Logistic Regression and find the optimal C (regularization strength) using cross-validation."
   ]
  },
  {
   "cell_type": "code",
   "execution_count": 102,
   "id": "ac6ad2a6-1fad-4a0d-9cc4-5310ac884866",
   "metadata": {},
   "outputs": [
    {
     "name": "stdout",
     "output_type": "stream",
     "text": [
      "Best Solver: liblinear\n",
      "Best C value: 0.1\n",
      "Model Accuracy with Best Solver and C: 0.99\n"
     ]
    }
   ],
   "source": [
    "\n",
    "# Load dataset\n",
    "data = load_breast_cancer()\n",
    "X = pd.DataFrame(data.data, columns=data.feature_names)\n",
    "y = pd.Series(data.target)\n",
    "\n",
    "# Split dataset into training and testing sets\n",
    "X_train, X_test, y_train, y_test = train_test_split(X, y, test_size=0.3, random_state=42)\n",
    "\n",
    "# Apply feature scaling (standardization)\n",
    "scaler = StandardScaler()\n",
    "X_train_scaled = scaler.fit_transform(X_train)\n",
    "X_test_scaled = scaler.transform(X_test)\n",
    "\n",
    "# Set up the hyperparameter grid for C\n",
    "param_grid = {'C': [0.01, 0.1, 1, 10, 100]}\n",
    "\n",
    "# Initialize the Logistic Regression model with different solvers\n",
    "solvers = ['lbfgs', 'liblinear', 'saga']\n",
    "best_params = {}\n",
    "best_accuracy = 0\n",
    "best_solver = None\n",
    "\n",
    "for solver in solvers:\n",
    "    logistic_regression = LogisticRegression(solver=solver, max_iter=10000)\n",
    "    grid_search = GridSearchCV(estimator=logistic_regression, param_grid=param_grid, cv=5, scoring='accuracy')\n",
    "    grid_search.fit(X_train_scaled, y_train)\n",
    "    best_C = grid_search.best_params_['C']\n",
    "    best_model = grid_search.best_estimator_\n",
    "    y_pred = best_model.predict(X_test_scaled)\n",
    "    accuracy = accuracy_score(y_test, y_pred)\n",
    "    \n",
    "    if accuracy > best_accuracy:\n",
    "        best_accuracy = accuracy\n",
    "        best_solver = solver\n",
    "        best_params = grid_search.best_params_\n",
    "\n",
    "# Print the best solver, C value, and model accuracy\n",
    "print(f\"Best Solver: {best_solver}\")\n",
    "print(f\"Best C value: {best_params['C']}\")\n",
    "print(f\"Model Accuracy with Best Solver and C: {best_accuracy:.2f}\")\n"
   ]
  },
  {
   "cell_type": "code",
   "execution_count": 103,
   "id": "638f7991-3eea-4c8a-879e-3f9ec997f674",
   "metadata": {},
   "outputs": [],
   "source": [
    "#Q25 Write a Python program to train Logistic Regression, save the trained model using joblib, and load it again to make predictions."
   ]
  },
  {
   "cell_type": "code",
   "execution_count": 104,
   "id": "024b09a7-89d6-425b-9f74-6a38e314e773",
   "metadata": {},
   "outputs": [
    {
     "name": "stdout",
     "output_type": "stream",
     "text": [
      "Model Accuracy: 0.98\n"
     ]
    }
   ],
   "source": [
    "# Import necessary libraries\n",
    "import joblib\n",
    "\n",
    "# Load dataset\n",
    "data = load_breast_cancer()\n",
    "X = pd.DataFrame(data.data, columns=data.feature_names)\n",
    "y = pd.Series(data.target)\n",
    "\n",
    "# Split dataset into training and testing sets\n",
    "X_train, X_test, y_train, y_test = train_test_split(X, y, test_size=0.3, random_state=42)\n",
    "\n",
    "# Train Logistic Regression model\n",
    "logistic_regression = LogisticRegression(max_iter=10000)\n",
    "logistic_regression.fit(X_train, y_train)\n",
    "\n",
    "# Save the trained model using joblib\n",
    "model_filename = 'logistic_regression_model.pkl'\n",
    "joblib.dump(logistic_regression, model_filename)\n",
    "\n",
    "# Load the saved model\n",
    "loaded_model = joblib.load(model_filename)\n",
    "\n",
    "# Make predictions using the loaded model\n",
    "y_pred = loaded_model.predict(X_test)\n",
    "\n",
    "# Evaluate the model's accuracy\n",
    "accuracy = accuracy_score(y_test, y_pred)\n",
    "\n",
    "# Print the accuracy\n",
    "print(f\"Model Accuracy: {accuracy:.2f}\")\n"
   ]
  },
  {
   "cell_type": "code",
   "execution_count": null,
   "id": "fd69f0e0-7e2d-4199-861d-e4f8578a36dd",
   "metadata": {},
   "outputs": [],
   "source": []
  }
 ],
 "metadata": {
  "kernelspec": {
   "display_name": "Python 3 (ipykernel)",
   "language": "python",
   "name": "python3"
  },
  "language_info": {
   "codemirror_mode": {
    "name": "ipython",
    "version": 3
   },
   "file_extension": ".py",
   "mimetype": "text/x-python",
   "name": "python",
   "nbconvert_exporter": "python",
   "pygments_lexer": "ipython3",
   "version": "3.12.5"
  }
 },
 "nbformat": 4,
 "nbformat_minor": 5
}
